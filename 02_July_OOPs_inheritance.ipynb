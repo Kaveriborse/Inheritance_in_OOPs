{
 "cells": [
  {
   "cell_type": "markdown",
   "id": "112b610b",
   "metadata": {},
   "source": [
    "# Inheritance in OOP"
   ]
  },
  {
   "cell_type": "markdown",
   "id": "28151a59",
   "metadata": {},
   "source": [
    "1.Inheritance in object-oriented programming."
   ]
  },
  {
   "cell_type": "raw",
   "id": "07545bc0",
   "metadata": {},
   "source": [
    "It is a mechanism that allows you to cearte a hierarchy of classess that shares a set of properties and methodes by         deriving class from one another class.Inheritance is the capability of one class to derive or inherit the properties       from another class"
   ]
  },
  {
   "cell_type": "markdown",
   "id": "488c3cb0",
   "metadata": {},
   "source": [
    "2. Need of Inheritance in OOP"
   ]
  },
  {
   "cell_type": "raw",
   "id": "b81a0fcf",
   "metadata": {},
   "source": [
    "1.Code Reusability: \n",
    "Inheritance promotes reusability by allowing new classes to inherit properties and behaviour from existing classes.Instead of writing the same code multiple times.This helps in code duplication and improving development efficiency.\n",
    "\n",
    "2.Modularity and extensibility:\n",
    "Inheritance promotes modularity by dividing a complex system into smaller, more managable classes.You can extend the functionality of existing classes by adding new methods.\n",
    "\n",
    "3.Polymorphism:\n",
    "Inheritance plays a crucial role in achieving polymorphism, which is the ability of classes to be treated as a object of a common superclass."
   ]
  },
  {
   "cell_type": "markdown",
   "id": "4c5f07c2",
   "metadata": {},
   "source": [
    "3.Single and Multiple inheritance"
   ]
  },
  {
   "cell_type": "raw",
   "id": "ec65c657",
   "metadata": {},
   "source": [
    "1.Single inheritance:\n",
    "single inheritance is a feature in a object oriented programming languages where a class can inherit properties and behavior from a single parrent class. In single inheritance, a derived clss can extend and specialized the functionality of a base class.\n",
    "\n",
    "2.Multiple inheritance:\n",
    "Multiple inheritance is a feature in a object oriented programming languages where a class can inherit properties and behavior from a multiple parent classes, in contrast to single inheritance, where a class can have only one direct super class,whereas a multiple inheritance allows a class to have multiple direct super class."
   ]
  },
  {
   "cell_type": "markdown",
   "id": "f464c7cf",
   "metadata": {},
   "source": [
    "4.\"Base class\" in the context of inheritance."
   ]
  },
  {
   "cell_type": "raw",
   "id": "00c45387",
   "metadata": {},
   "source": [
    "In the context of inheritance, a base class refers to the class that is being inherited from. It is also known as superlass\n",
    "or parent class.The base class serves as a buleprint for the derived classes,providing common attributes and behaviours that can be shared among multiple derived classes."
   ]
  },
  {
   "cell_type": "markdown",
   "id": "e82257a1",
   "metadata": {},
   "source": [
    "\"Derived class\" in the context of inheritance."
   ]
  },
  {
   "cell_type": "raw",
   "id": "b5ba71a1",
   "metadata": {},
   "source": [
    "In the context of inheritance, a derived class inherits properties (attributes and methods)from a base class or a superclass.It is also known as baseclass or childclass.When derived class is created, it inherites members of the base class i.e the derived class can access and use the properties of base class."
   ]
  },
  {
   "cell_type": "markdown",
   "id": "0842424b",
   "metadata": {},
   "source": [
    "5.What is the significance of the \"protected\" access modifier in inheritance? How does\n",
    "it differ from \"private\" and \"public\" modifiers?"
   ]
  },
  {
   "cell_type": "raw",
   "id": "6e953b60",
   "metadata": {},
   "source": [
    "Inheritance and protected access modifiers plays important role in OOP, such as in\n",
    "1.Access within the class hierarchy:\n",
    "When a member is marked as protected in a base class, it allowes the member to be access within both the base class and its derived class.This means that the derived class can directly access the protected members inherited from the base class.\n",
    "\n",
    "2.Code reusability and customization:\n",
    "Inheritance facilitates code reuse by allowing derived classes to inherit members from the base class.The protected access modifiers enhances this code reusability by enabling the derived classes to access and use the protected members inherited from the base class.\n",
    "\n",
    "Protected access modifier is differ from both 'public' and 'private' access modifiers as when a member is declared as public it can be access from anywhere, both within the class itself and from other class.When member is declared as private, it can only be accessed from within the same class where it is defined. Whereas protected members are accessible within the same class, derived classes and classes within the same package."
   ]
  },
  {
   "cell_type": "markdown",
   "id": "06e114e7",
   "metadata": {},
   "source": [
    "6.What is the purpose of the \"super\" keyword in inheritance? Provide an example."
   ]
  },
  {
   "cell_type": "raw",
   "id": "19593570",
   "metadata": {},
   "source": [
    "The 'super' keyword is used in object oriented programming and it has main purpose as followes,\n",
    "1.Accessing superclass members:\n",
    "When a subclass inherits from superclass it can use the super keyword to access the superclass's members(methods or variables)that are hidden in subclass.This is helpful when the superclass constructor initializes certain attributes or performs specific actions that need to be carried out in the subclass as well."
   ]
  },
  {
   "cell_type": "code",
   "execution_count": 172,
   "id": "9da10a6b",
   "metadata": {},
   "outputs": [],
   "source": [
    "#Example:\n",
    "class vehicle:                                         #Base class\n",
    "    def __init__(self,brand): \n",
    "        self.brand=brand\n",
    "        \n",
    "    def start(self):\n",
    "        print(f\"the {self.brand} is going to start\")\n",
    "\n",
    "class car(vehicle):                                    # Derived class\n",
    "    def __init__(self,brand,model):\n",
    "        super().__init__(brand)                        # here 'super()' is used to access base class attribute\n",
    "        self.model=model\n",
    "        \n",
    "    def start(self):\n",
    "        super().start()                                 #here 'super()' is used to access base class method\n",
    "        print(f\"the {self.brand} {self.model} is going like wooh wooh\")\n",
    "        "
   ]
  },
  {
   "cell_type": "code",
   "execution_count": 173,
   "id": "2dc0fb94",
   "metadata": {},
   "outputs": [
    {
     "name": "stdout",
     "output_type": "stream",
     "text": [
      "the BMW is going to start\n",
      "the BMW EV is going like wooh wooh\n"
     ]
    }
   ],
   "source": [
    "car1=car(\"BMW\",\"EV\")\n",
    "car1.start()"
   ]
  },
  {
   "cell_type": "markdown",
   "id": "41fa8108",
   "metadata": {},
   "source": [
    "6. Create a base class called \"Vehicle\" with attributes like \"make\", \"model\", and \"year\".\n",
    "Then, create a derived class called \"Car\" that inherits from \"Vehicle\" and adds an\n",
    "attribute called \"fuel_type\". Implement appropriate methods in both classes."
   ]
  },
  {
   "cell_type": "code",
   "execution_count": 82,
   "id": "e385e594",
   "metadata": {},
   "outputs": [],
   "source": [
    "class vehicle:\n",
    "    def __init__(self,make,model,year):   \n",
    "        self.make=make\n",
    "        self.model=model\n",
    "        self.year=year\n",
    "        \n",
    "    def start_engine(self):\n",
    "         print(f\" {self.model} is going to stsrt\")\n",
    "            \n",
    "    def Fuel_type(self):\n",
    "        pass                               # as every vehicle consumes different type of fuel\n",
    "        \n",
    "class Car(vehicle):                        \n",
    "    def __init__(self,name,make,model,year,fuel_type):\n",
    "        super().__init__(make,model,year)\n",
    "        self.name=name\n",
    "        self.fuel_type=fuel_type\n",
    "        \n",
    "    def start_engine(self):                # method\n",
    "        super().start_engine()\n",
    "        \n",
    "    def Fuel_type(self):\n",
    "        print(f\"The {self.name} of {self.make} runs on {self.fuel_type}\")\n",
    "    \n",
    "    def dispaly_info(self):\n",
    "        print(f\" {self.name} of {self.model} making by {self.make} consumes fuel {self.fuel_type} \\n in year {self.year} is ready\" )"
   ]
  },
  {
   "cell_type": "code",
   "execution_count": 83,
   "id": "3c7e36dd",
   "metadata": {},
   "outputs": [],
   "source": [
    "veh1=vehicle(\"TaTa\",\"Land rover\",2023)"
   ]
  },
  {
   "cell_type": "code",
   "execution_count": 84,
   "id": "9e7452fd",
   "metadata": {},
   "outputs": [
    {
     "name": "stdout",
     "output_type": "stream",
     "text": [
      " Land rover is going to stsrt\n"
     ]
    }
   ],
   "source": [
    "veh1.start_engine()"
   ]
  },
  {
   "cell_type": "code",
   "execution_count": 85,
   "id": "bc0bf5d3",
   "metadata": {},
   "outputs": [],
   "source": [
    "car1=Car(\"Ertiga\",\"Maruti Suzuki\",\"XL6\",2023,\"Disel\")"
   ]
  },
  {
   "cell_type": "code",
   "execution_count": 86,
   "id": "058a28fb",
   "metadata": {},
   "outputs": [
    {
     "name": "stdout",
     "output_type": "stream",
     "text": [
      " Ertiga of XL6 making by Maruti Suzuki consumes fuel Disel \n",
      " in year 2023 is ready\n"
     ]
    }
   ],
   "source": [
    "car1.dispaly_info()"
   ]
  },
  {
   "cell_type": "code",
   "execution_count": 19,
   "id": "2d6af699",
   "metadata": {},
   "outputs": [
    {
     "name": "stdout",
     "output_type": "stream",
     "text": [
      "The Ertiga of Maruti Suzuki runs on Disel\n"
     ]
    }
   ],
   "source": [
    "car1.Fuel_type()"
   ]
  },
  {
   "cell_type": "markdown",
   "id": "0bc30e23",
   "metadata": {},
   "source": [
    "7. Create a base class called \"Employee\" with attributes like \"name\" and \"salary.\"\n",
    "Derive two classes, \"Manager\" and \"Developer,\" from \"Employee.\" Add an additional\n",
    "attribute called \"department\" for the \"Manager\" class and \"programming_language\"\n",
    "for the \"Developer\" class."
   ]
  },
  {
   "cell_type": "code",
   "execution_count": 20,
   "id": "f12b4b17",
   "metadata": {},
   "outputs": [],
   "source": [
    "class Employee:\n",
    "    def __init__(self,name,salary):\n",
    "        self.name=name\n",
    "        self.salary=salary\n",
    "        \n",
    "class Manager(Employee):\n",
    "    def __init__(self,name,salary,department):\n",
    "        super().__init__(name,salary)\n",
    "        self.department=department\n",
    "        \n",
    "    def display_info(self):\n",
    "        print(f\"{self.department} manager named {self.name} having {self.salary} salary\")\n",
    "        \n",
    "class Developer(Employee):\n",
    "    def __init__(self,name,salary,programming_language):\n",
    "        super().__init__(name,salary)\n",
    "        self.programming_language=programming_language\n",
    "        \n",
    "    def display_info(self):\n",
    "        print(f\" {self.name} is a Developer worked using {self.programming_language} having salary {self.salary}\")"
   ]
  },
  {
   "cell_type": "code",
   "execution_count": 21,
   "id": "147115da",
   "metadata": {},
   "outputs": [],
   "source": [
    "emp=Employee(\"Alice Doe\",25000)"
   ]
  },
  {
   "cell_type": "code",
   "execution_count": 23,
   "id": "4b4062b0",
   "metadata": {},
   "outputs": [],
   "source": [
    "man=Manager(\"Ram\",55000,\"IT\")"
   ]
  },
  {
   "cell_type": "code",
   "execution_count": 24,
   "id": "8a5e723e",
   "metadata": {},
   "outputs": [
    {
     "name": "stdout",
     "output_type": "stream",
     "text": [
      "IT manager named Ram having 55000 salary\n"
     ]
    }
   ],
   "source": [
    "man.display_info()"
   ]
  },
  {
   "cell_type": "markdown",
   "id": "703b2a70",
   "metadata": {},
   "source": [
    "8. Design a base class called \"Shape\" with attributes like \"colour\" and \"border_width.\"\n",
    "Create derived classes, \"Rectangle\" and \"Circle,\" that inherit from \"Shape\" and add\n",
    "specific attributes like \"length\" and \"width\" for the \"Rectangle\" class and \"radius\" for\n",
    "the \"Circle\" class."
   ]
  },
  {
   "cell_type": "code",
   "execution_count": 74,
   "id": "ae763e8d",
   "metadata": {},
   "outputs": [],
   "source": [
    "class Shape:                                                      #base class\n",
    "    def __init__(self,colour,border_width):\n",
    "        self.colour=colour\n",
    "        self.border_width=border_width\n",
    "        \n",
    "class Rectangle(Shape):                                           #sub-class 1\n",
    "    def __init__(self,colour,border_width,length):\n",
    "        super().__init__(colour,border_width)\n",
    "        self.length=length\n",
    "        \n",
    "    def area(self,length,width):                                 #method\n",
    "        if self.length>0 and self.border_width>0:\n",
    "            a=self.length*self.border_width\n",
    "            print(f\"Area of rectangle of colour {self.colour} is :\",a)\n",
    "        else:\n",
    "            print(\"Enter correct values\")\n",
    "            \n",
    "class Circle(Shape):                                              #sub-class 2\n",
    "    def __init__(self,colour,border_width,radius):\n",
    "        super().__init__(colour,border_width)\n",
    "        self.radius=radius\n",
    "    \n",
    "    \n",
    "    def area(self):\n",
    "        import numpy                        # to print value of pi we can also take by using in-built \"math\" library\n",
    "        if self.radius>0:\n",
    "            a=numpy.pi*self.radius*self.radius\n",
    "            print(f\"The circle of {self.colour} colour having area :\",a)\n",
    "        else:\n",
    "            print(\"Enter correct value \")"
   ]
  },
  {
   "cell_type": "code",
   "execution_count": 75,
   "id": "e0cdfc8d",
   "metadata": {},
   "outputs": [],
   "source": [
    "shape=Shape(\"Red\",25)"
   ]
  },
  {
   "cell_type": "code",
   "execution_count": 76,
   "id": "2849ef4f",
   "metadata": {},
   "outputs": [],
   "source": [
    "rect=Rectangle(\"Red\",25,15)"
   ]
  },
  {
   "cell_type": "code",
   "execution_count": 77,
   "id": "fa22ecae",
   "metadata": {},
   "outputs": [
    {
     "name": "stdout",
     "output_type": "stream",
     "text": [
      "Area of rectangle of colour Red is : 375\n"
     ]
    }
   ],
   "source": [
    "rect.area(25,15)"
   ]
  },
  {
   "cell_type": "code",
   "execution_count": 80,
   "id": "030efcce",
   "metadata": {},
   "outputs": [],
   "source": [
    "cir=Circle(\"Pink\",25,12)"
   ]
  },
  {
   "cell_type": "code",
   "execution_count": 81,
   "id": "1ee028fa",
   "metadata": {},
   "outputs": [
    {
     "name": "stdout",
     "output_type": "stream",
     "text": [
      "The circle of Pink colour having area : 452.3893421169302\n"
     ]
    }
   ],
   "source": [
    "cir.area()"
   ]
  },
  {
   "cell_type": "markdown",
   "id": "0c354937",
   "metadata": {},
   "source": [
    "9. Create a base class called \"Device\" with attributes like \"brand\" and \"model.\" Derive\n",
    "two classes, \"Phone\" and \"Tablet,\" from \"Device.\" Add specific attributes like\n",
    "\"screen_size\" for the \"Phone\" class and \"battery_capacity\" for the \"Tablet\" class."
   ]
  },
  {
   "cell_type": "code",
   "execution_count": 95,
   "id": "d7e3a13e",
   "metadata": {},
   "outputs": [],
   "source": [
    "class Device:\n",
    "    def __init__(self,brand,model):\n",
    "        self.brand=brand\n",
    "        self.model=model\n",
    "        \n",
    "class Phone(Device):\n",
    "    def __init__(self,brand,model,screen_size):\n",
    "        super().__init__(brand,model)\n",
    "        self.screen_size=screen_size\n",
    "        print(f\" The phone of {self.brand} {self.model} having screen size {self.screen_size} inches\")\n",
    "        \n",
    "class Tablet(Device):\n",
    "    def __init__(self,brand,model,battery_capacity):\n",
    "        super().__init__(brand,model)\n",
    "        self.battery_capacity=battery_capacity\n",
    "        print(f\" The tablet of {self.brand} {self.model} having battery_capacity {self.battery_capacity}\")\n",
    "        "
   ]
  },
  {
   "cell_type": "code",
   "execution_count": 96,
   "id": "976d222d",
   "metadata": {},
   "outputs": [],
   "source": [
    "dev=Device(\"OPPO\",\"A5S\")"
   ]
  },
  {
   "cell_type": "code",
   "execution_count": 97,
   "id": "f8885597",
   "metadata": {},
   "outputs": [
    {
     "name": "stdout",
     "output_type": "stream",
     "text": [
      " The phone of OPPO A5S having screen size 6.2 inches\n"
     ]
    }
   ],
   "source": [
    "mob=Phone(\"OPPO\",\"A5S\",6.2)"
   ]
  },
  {
   "cell_type": "markdown",
   "id": "f858e745",
   "metadata": {},
   "source": [
    "10. Create a base class called \"BankAccount\" with attributes like \"account_number\" and\n",
    "\"balance.\" Derive two classes, \"SavingsAccount\" and \"CheckingAccount,\" from\n",
    "\"BankAccount.\" Add specific methods like \"calculate_interest\" for the\n",
    "\"SavingsAccount\" class and \"deduct_fees\" for the \"CheckingAccount\" class."
   ]
  },
  {
   "cell_type": "code",
   "execution_count": 162,
   "id": "886d5c7e",
   "metadata": {},
   "outputs": [],
   "source": [
    "class BankAccount:\n",
    "    def __init__(self,balance,account_number):\n",
    "        self.balance=balance\n",
    "        self.account_number=account_number\n",
    "    \n",
    "class SavingsAccount(BankAccount):\n",
    "    def __init__(self,balance,account_number,rate_of_interest):\n",
    "        super().__init__(balance,account_number)\n",
    "        self.rate_of_interest=rate_of_interest\n",
    "\n",
    "        \n",
    "    def interest(self):\n",
    "        if self.balance>0:\n",
    "            interest=self.balance*(self.rate_of_interest/100)\n",
    "            print(f\" Rate of interest is {self.rate_of_interest}% on principal amount {self.balance} hence interest is rs.{interest}\")\n",
    "        else:\n",
    "            print(\"Please enter valid information\")\n",
    "            \n",
    "class CheckingAccount(BankAccount):\n",
    "    def __init__(self,balance,account_number,deduct_fee):\n",
    "        super().__init__(balance,account_number)\n",
    "        self.deduct_fee=deduct_fee\n",
    "       \n",
    "    def deduct_fees(self):\n",
    "        if self.balance>self.deduct_fee:\n",
    "            totalbal=self.balance-self.deduct_fee\n",
    "            print(f\" Deduction fee is {self.deduct_fee} on balance {self.balance} after deduction amount will be {totalbal} RS.\")\n",
    "        else:\n",
    "            print(\"Please enter valid information\")\n",
    "    "
   ]
  },
  {
   "cell_type": "code",
   "execution_count": 163,
   "id": "3afe3141",
   "metadata": {},
   "outputs": [],
   "source": [
    "cust1=BankAccount(20000,12548795123)"
   ]
  },
  {
   "cell_type": "code",
   "execution_count": 164,
   "id": "1a00ce1c",
   "metadata": {},
   "outputs": [],
   "source": [
    "cust1=SavingsAccount(20000,12548795123,8)"
   ]
  },
  {
   "cell_type": "code",
   "execution_count": 165,
   "id": "a9bb8c7a",
   "metadata": {},
   "outputs": [
    {
     "name": "stdout",
     "output_type": "stream",
     "text": [
      " Rate of interest is 8% on principal amount 20000 hence interest is rs.1600.0\n"
     ]
    }
   ],
   "source": [
    "cust1.interest()"
   ]
  },
  {
   "cell_type": "code",
   "execution_count": 166,
   "id": "6956b625",
   "metadata": {},
   "outputs": [],
   "source": [
    "cust1=CheckingAccount(20000,12548795123,200)"
   ]
  },
  {
   "cell_type": "code",
   "execution_count": 167,
   "id": "232a1094",
   "metadata": {},
   "outputs": [
    {
     "name": "stdout",
     "output_type": "stream",
     "text": [
      " Deduction fee is 200 on balance 20000 after deduction amount will be 19800 RS.\n"
     ]
    }
   ],
   "source": [
    "cust1.deduct_fees()"
   ]
  }
 ],
 "metadata": {
  "kernelspec": {
   "display_name": "Python 3 (ipykernel)",
   "language": "python",
   "name": "python3"
  },
  "language_info": {
   "codemirror_mode": {
    "name": "ipython",
    "version": 3
   },
   "file_extension": ".py",
   "mimetype": "text/x-python",
   "name": "python",
   "nbconvert_exporter": "python",
   "pygments_lexer": "ipython3",
   "version": "3.9.7"
  }
 },
 "nbformat": 4,
 "nbformat_minor": 5
}
